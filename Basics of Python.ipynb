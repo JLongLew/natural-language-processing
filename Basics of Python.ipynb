{
 "cells": [
  {
   "cell_type": "code",
   "execution_count": 11,
   "id": "b4527c12",
   "metadata": {},
   "outputs": [
    {
     "name": "stdout",
     "output_type": "stream",
     "text": [
      "Enter your name: JL\n",
      "Hey, it's JL --hello!\n"
     ]
    }
   ],
   "source": [
    "# LEW JUN LONG\n",
    "# TP059638\n",
    "# 31/5/2022\n",
    "# 1.1A\n",
    "name = input(\"Enter your name: \")\n",
    "print(\"Hey, it's\", name, \"--hello!\")"
   ]
  },
  {
   "cell_type": "code",
   "execution_count": 3,
   "id": "2fe48c7f",
   "metadata": {},
   "outputs": [
    {
     "name": "stdout",
     "output_type": "stream",
     "text": [
      "Input your First Name: Lew\n",
      "Input your Last Name: Jun Long\n",
      "Hello Jun Long Lew\n"
     ]
    }
   ],
   "source": [
    "# 1.1B\n",
    "fname = input(\"Input your First Name: \")\n",
    "lname = input(\"Input your Last Name: \")\n",
    "print(\"Hello \"+lname+\" \"+fname)"
   ]
  },
  {
   "cell_type": "code",
   "execution_count": 4,
   "id": "de3dc134",
   "metadata": {},
   "outputs": [
    {
     "name": "stdout",
     "output_type": "stream",
     "text": [
      "Enter first number: 10\n",
      "Enter secodn number: 55\n",
      "The sum of 10 and 55 is 65.0\n"
     ]
    }
   ],
   "source": [
    "# 1.2A\n",
    "num1 = input('Enter first number: ')\n",
    "num2 = input('Enter secodn number: ')\n",
    "\n",
    "sum = float(num1)+ float(num2)\n",
    "\n",
    "print('The sum of {0} and {1} is {2}'.format(num1, num2, sum))"
   ]
  },
  {
   "cell_type": "code",
   "execution_count": 5,
   "id": "e2970b60",
   "metadata": {},
   "outputs": [
    {
     "name": "stdout",
     "output_type": "stream",
     "text": [
      "Input the Filename: abc.mp4\n",
      "The extension of the file is: 'mp4'\n"
     ]
    }
   ],
   "source": [
    "# 1.3A\n",
    "filename = input(\"Input the Filename: \")\n",
    "f_extns = filename.split(\".\")\n",
    "print(\"The extension of the file is: \"+repr(f_extns[-1]))"
   ]
  },
  {
   "cell_type": "code",
   "execution_count": 7,
   "id": "8213c2e4",
   "metadata": {},
   "outputs": [
    {
     "name": "stdout",
     "output_type": "stream",
     "text": [
      "Input an integer: 5\n",
      "615\n"
     ]
    }
   ],
   "source": [
    "# 1.3B\n",
    "a = int(input(\"Input an integer: \"))\n",
    "n1 = int(\"%s\" % a)\n",
    "n2 = int(\"%s%s\" % (a,a))\n",
    "n3 = int(\"%s%s%s\" % (a,a,a))\n",
    "print(n1+n2+n3)"
   ]
  },
  {
   "cell_type": "code",
   "execution_count": 9,
   "id": "b5030d3a",
   "metadata": {},
   "outputs": [
    {
     "name": "stdout",
     "output_type": "stream",
     "text": [
      "List is empty\n"
     ]
    }
   ],
   "source": [
    "# 1.3C\n",
    "l = []\n",
    "if not l:\n",
    "    print(\"List is empty\")"
   ]
  },
  {
   "cell_type": "code",
   "execution_count": 30,
   "id": "bcc656b2",
   "metadata": {},
   "outputs": [
    {
     "name": "stdout",
     "output_type": "stream",
     "text": [
      "Input your text: a ab abc abcd\n",
      "Input the number letter in words you want to find: 2\n",
      "['abc', 'abcd']\n"
     ]
    }
   ],
   "source": [
    "# 1.3D\n",
    "def long_words(n,str):\n",
    "    word_len = []\n",
    "    txt = str.split(\" \")\n",
    "    \n",
    "    for x in txt:\n",
    "        if len(x) > n:\n",
    "            word_len.append(x)\n",
    "    return word_len\n",
    "\n",
    "text = input(\"Input your text: \")\n",
    "n = int(input(\"Input the number letter in words you want to find: \"))\n",
    "\n",
    "print(long_words(n, text))"
   ]
  },
  {
   "cell_type": "code",
   "execution_count": 17,
   "id": "a538f696",
   "metadata": {},
   "outputs": [
    {
     "name": "stdout",
     "output_type": "stream",
     "text": [
      "Red Black\n"
     ]
    }
   ],
   "source": [
    "# 1.3E\n",
    "color_list = [\"Red\", \"Green\", \"White\", \"Black\"]\n",
    "print(\"%s %s\"%(color_list[0],color_list[-1]))"
   ]
  },
  {
   "cell_type": "code",
   "execution_count": 3,
   "id": "f85d2a57",
   "metadata": {},
   "outputs": [
    {
     "name": "stdout",
     "output_type": "stream",
     "text": [
      "Enter the number of students: 5\n",
      "Enter mark: 10\n",
      "Enter mark: 20\n",
      "Enter mark: 30\n",
      "Enter mark: 40\n",
      "Enter mark: 50\n",
      "Average of marks in the list 30.0\n"
     ]
    }
   ],
   "source": [
    "# 1.4A\n",
    "n = int(input(\"Enter the number of students: \"))\n",
    "a = []\n",
    "for i in range(0,n):\n",
    "    elem = float(input(\"Enter mark: \"))\n",
    "    a.append(elem)\n",
    "avg = sum(a)/n\n",
    "print(\"Average of marks in the list\", round(avg,2))"
   ]
  },
  {
   "cell_type": "code",
   "execution_count": 7,
   "id": "a2486284",
   "metadata": {},
   "outputs": [
    {
     "name": "stdout",
     "output_type": "stream",
     "text": [
      "Enter the number of students: 5\n",
      "Enter mark: 10\n",
      "Enter mark: 20\n",
      "Enter mark: 30\n",
      "Enter mark: 40\n",
      "Enter mark: 50\n",
      "Average of marks in the list 30.0\n"
     ]
    }
   ],
   "source": [
    "# 1.4B\n",
    "n = int(input(\"Enter the number of students: \"))\n",
    "a = []\n",
    "i = 0\n",
    "while (i<n):\n",
    "    elem = int(input(\"Enter mark: \"))\n",
    "    a.append(elem)\n",
    "    i = i + 1\n",
    "avg = sum(a)/n\n",
    "print(\"Average of marks in the list\", round(avg,2))"
   ]
  },
  {
   "cell_type": "code",
   "execution_count": 23,
   "id": "dace9b14",
   "metadata": {},
   "outputs": [
    {
     "name": "stdout",
     "output_type": "stream",
     "text": [
      "2\n"
     ]
    }
   ],
   "source": [
    "# 1.4C\n",
    "def match_words(words):\n",
    "    ctr = 0\n",
    "    \n",
    "    for word in words:\n",
    "        if(len(word) > 1 and word[0] == word[-1]):\n",
    "            ctr+=1\n",
    "    return ctr\n",
    "\n",
    "print(match_words(['abc', 'xyz', 'aba', '1221']))"
   ]
  },
  {
   "cell_type": "code",
   "execution_count": 24,
   "id": "79359192",
   "metadata": {},
   "outputs": [
    {
     "name": "stdout",
     "output_type": "stream",
     "text": [
      "Enter the number of words you like to test: 3\n",
      "Enter a word: I am boy\n",
      "Enter a word: I am girl\n",
      "Enter a word: I am smart\n",
      "0\n"
     ]
    }
   ],
   "source": [
    "# 1.4D\n",
    "def match_words(words):\n",
    "    ctr = 0\n",
    "    \n",
    "    for word in words:\n",
    "        if(len(word) > 1 and word[0] == word[-1]):\n",
    "            ctr+=1\n",
    "    return ctr\n",
    "\n",
    "n = int(input(\"Enter the number of words you like to test: \"))\n",
    "a = []\n",
    "for i in range(0,n):\n",
    "    wrd = input(\"Enter a word: \")\n",
    "    a.append(wrd)\n",
    "    \n",
    "print(match_words(a))"
   ]
  },
  {
   "cell_type": "code",
   "execution_count": 26,
   "id": "209dd92f",
   "metadata": {},
   "outputs": [
    {
     "name": "stdout",
     "output_type": "stream",
     "text": [
      "{40, 10, 80, 50, 20, 60, 30}\n"
     ]
    }
   ],
   "source": [
    "# 1.4E\n",
    "a = [10,20,30,20,10,50,60,40,80,50,40]\n",
    "\n",
    "dup_items = set()\n",
    "uniq_items = []\n",
    "for x in a:\n",
    "    if x not in dup_items:\n",
    "        uniq_items.append(x)\n",
    "        dup_items.add(x)\n",
    "        \n",
    "print(dup_items)"
   ]
  },
  {
   "cell_type": "code",
   "execution_count": 27,
   "id": "1a179cca",
   "metadata": {},
   "outputs": [
    {
     "name": "stdout",
     "output_type": "stream",
     "text": [
      "True\n",
      "None\n"
     ]
    }
   ],
   "source": [
    "# 1.4F\n",
    "def common_data(list1, list2):\n",
    "    result = False\n",
    "    for x in list1:\n",
    "        for y in list2:\n",
    "            if(x==y):\n",
    "                result = True\n",
    "                return result\n",
    "\n",
    "print(common_data([1,2,3,4,5], [5,6,7,8,9]))\n",
    "print(common_data([1,2,3,4,5], [6,7,8,9]))"
   ]
  },
  {
   "cell_type": "code",
   "execution_count": 28,
   "id": "bce8a070",
   "metadata": {},
   "outputs": [
    {
     "name": "stdout",
     "output_type": "stream",
     "text": [
      "['Green', 'White', 'Black']\n"
     ]
    }
   ],
   "source": [
    "# 1.4G\n",
    "color = ['Red', 'Green', 'White', 'Black', 'Pink', 'Yellow']\n",
    "color = [x for (i,x) in enumerate(color) if i not in(0,4,5)]\n",
    "print(color)"
   ]
  },
  {
   "cell_type": "code",
   "execution_count": 4,
   "id": "d55f593c",
   "metadata": {},
   "outputs": [
    {
     "name": "stdout",
     "output_type": "stream",
     "text": [
      "Enter the number of colors: 6\n",
      "Enter color: Red\n",
      "Enter color: Green\n",
      "Enter color: White\n",
      "Enter color: Black\n",
      "Enter color: Pink\n",
      "Enter color: Yellow\n",
      "['Green', 'White', 'Black']\n"
     ]
    }
   ],
   "source": [
    "# 1.4H\n",
    "n = int(input(\"Enter the number of colors: \"))\n",
    "color = []\n",
    "for i in range(0,n):\n",
    "    a = input(\"Enter color: \")\n",
    "    color.append(a)\n",
    "color = [x for (i,x) in enumerate(color) if i not in(0,4,5)]\n",
    "print(color)"
   ]
  },
  {
   "cell_type": "code",
   "execution_count": 2,
   "id": "a02031b5",
   "metadata": {},
   "outputs": [
    {
     "name": "stdout",
     "output_type": "stream",
     "text": [
      "Enter the number of students: 5\n",
      "Enter mark:11\n",
      "Enter mark:22\n",
      "Enter mark:33\n",
      "Enter mark:44\n",
      "Enter mark:55\n",
      "Average of odd marks in the list 33.0\n"
     ]
    }
   ],
   "source": [
    "# 1.5A\n",
    "n = int(input(\"Enter the number of students: \"))\n",
    "c = 0\n",
    "a = []\n",
    "odds = []\n",
    "for i in range(0,n):\n",
    "    elem = int(input(\"Enter mark:\"))\n",
    "    a.append(elem)\n",
    "    if elem%2 == 1:\n",
    "        odds.append(elem)\n",
    "        c+=1\n",
    "avg = sum(odds)/c\n",
    "print(\"Average of odd marks in the list\", round(avg,2))"
   ]
  },
  {
   "cell_type": "code",
   "execution_count": 5,
   "id": "816307f9",
   "metadata": {},
   "outputs": [
    {
     "name": "stdout",
     "output_type": "stream",
     "text": [
      "Enter the number of elements: 5\n",
      "Enter a number: 1\n",
      "Enter a number: 2\n",
      "Enter a number: 6\n",
      "Enter a number: 7\n",
      "Enter a number: 28\n",
      "[1, 7]\n"
     ]
    }
   ],
   "source": [
    "# 1.5B\n",
    "n = int(input(\"Enter the number of elements: \"))\n",
    "\n",
    "num = []\n",
    "for i in range(0,n):\n",
    "    elem = int(input(\"Enter a number: \"))\n",
    "    num.append(elem)\n",
    "    \n",
    "odds = [x for x in num if x%2!=0]\n",
    "print(odds)"
   ]
  },
  {
   "cell_type": "code",
   "execution_count": 4,
   "id": "93a02c3c",
   "metadata": {},
   "outputs": [
    {
     "name": "stdout",
     "output_type": "stream",
     "text": [
      "Enter the password: pw@python\n",
      "Welcome to the system!\n"
     ]
    }
   ],
   "source": [
    "# 1.5C\n",
    "user_input = input(\"Enter the password: \")\n",
    "system_pw = \"pw@python\"\n",
    "if user_input == system_pw:\n",
    "    print(\"Welcome to the system!\")\n",
    "else:\n",
    "    print(\"Sorry, the password is wrong. You are not permitted to enter the system.\")"
   ]
  },
  {
   "cell_type": "code",
   "execution_count": 8,
   "id": "f352cff6",
   "metadata": {},
   "outputs": [
    {
     "name": "stdout",
     "output_type": "stream",
     "text": [
      "-3\n"
     ]
    }
   ],
   "source": [
    "# 1.5D\n",
    "def second_smallest(numbers):\n",
    "    a1, a2 = float('inf'), float('inf')\n",
    "    for x in numbers:\n",
    "        if x <= a1:\n",
    "            a1, a2 = x, a1\n",
    "        elif x < a2:\n",
    "            a2 = x\n",
    "    return a2\n",
    "print(second_smallest([-1,4,-3,1,5,2,-8,-2,0]))"
   ]
  },
  {
   "cell_type": "code",
   "execution_count": 9,
   "id": "6a40a1c3",
   "metadata": {},
   "outputs": [
    {
     "name": "stdout",
     "output_type": "stream",
     "text": [
      "Current date and time: \n",
      "2022-05-31 09:48:34\n"
     ]
    }
   ],
   "source": [
    "# 1.6A\n",
    "import datetime\n",
    "now = datetime.datetime.now()\n",
    "print(\"Current date and time: \")\n",
    "print(now.strftime(\"%Y-%m-%d %H:%M:%S\"))"
   ]
  },
  {
   "cell_type": "code",
   "execution_count": 1,
   "id": "44e5b05b",
   "metadata": {},
   "outputs": [
    {
     "name": "stdout",
     "output_type": "stream",
     "text": [
      "Input the radius of the circle: 5\n",
      "The area of the circle is:78.53981633974483\n"
     ]
    }
   ],
   "source": [
    "# 1.6B\n",
    "from math import pi\n",
    "r = float(input(\"Input the radius of the circle: \"))\n",
    "a = pi * r**2\n",
    "print(\"The area of the circle\"+\" is:\" + str(a))"
   ]
  },
  {
   "cell_type": "code",
   "execution_count": 2,
   "id": "f66db76e",
   "metadata": {},
   "outputs": [
    {
     "name": "stdout",
     "output_type": "stream",
     "text": [
      "9\n"
     ]
    }
   ],
   "source": [
    "# 1.6C\n",
    "from datetime import date\n",
    "f_date = date(2014, 7, 2)\n",
    "l_date = date(2014, 7, 11)\n",
    "delta = l_date - f_date\n",
    "print(delta.days)"
   ]
  }
 ],
 "metadata": {
  "kernelspec": {
   "display_name": "Python 3 (ipykernel)",
   "language": "python",
   "name": "python3"
  },
  "language_info": {
   "codemirror_mode": {
    "name": "ipython",
    "version": 3
   },
   "file_extension": ".py",
   "mimetype": "text/x-python",
   "name": "python",
   "nbconvert_exporter": "python",
   "pygments_lexer": "ipython3",
   "version": "3.9.7"
  }
 },
 "nbformat": 4,
 "nbformat_minor": 5
}
